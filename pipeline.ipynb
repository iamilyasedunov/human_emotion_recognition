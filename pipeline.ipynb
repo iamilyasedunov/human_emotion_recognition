{
 "cells": [
  {
   "cell_type": "code",
   "execution_count": 2,
   "metadata": {},
   "outputs": [],
   "source": [
    "import csv\n",
    "import numpy as np\n",
    "import pandas as pd\n",
    "from os import listdir\n",
    "from os.path import isfile, join\n",
    "from model.tokenizer import DostoevskyTokenizer\n",
    "import warnings\n",
    "warnings.filterwarnings(\"ignore\")"
   ]
  },
  {
   "cell_type": "code",
   "execution_count": 153,
   "metadata": {},
   "outputs": [],
   "source": [
    "PATH_TO_RESULT = '..results\\\\'\n",
    "FOLDER_NAME_IN = 'results_by100kstep\\\\'\n",
    "FOLDER_NAME_OUT = 'results_after_scalling\\\\'"
   ]
  },
  {
   "cell_type": "code",
   "execution_count": null,
   "metadata": {},
   "outputs": [],
   "source": [
    "model = DostoevskyTokenizer()\n",
    "model.load_main_file('public_youtube1120_mp3.csv', nrows=LEN)\n",
    "model.init_tokenizer()"
   ]
  },
  {
   "cell_type": "code",
   "execution_count": null,
   "metadata": {},
   "outputs": [],
   "source": [
    "model.get_files_with_predict(path_to_save=FOLDER_NAME_IN)"
   ]
  },
  {
   "cell_type": "code",
   "execution_count": null,
   "metadata": {},
   "outputs": [],
   "source": [
    "result_files = [f for f in listdir(PATH_TO_RESULT + FOLDER_NAME_IN) if isfile(join(PATH_TO_RESULT + FOLDER_NAME_IN, f))]"
   ]
  },
  {
   "cell_type": "code",
   "execution_count": 154,
   "metadata": {},
   "outputs": [
    {
     "data": {
      "text/plain": [
       "['result0-100000.csv',\n",
       " 'result100000-200000.csv',\n",
       " 'result200000-300000.csv',\n",
       " 'result300000-400000.csv',\n",
       " 'result400000-500000.csv',\n",
       " 'result500000-600000.csv',\n",
       " 'result600000-700000.csv',\n",
       " 'result700000-800000.csv',\n",
       " 'result800000-900000.csv',\n",
       " 'result900000-1000000.csv']"
      ]
     },
     "execution_count": 154,
     "metadata": {},
     "output_type": "execute_result"
    }
   ],
   "source": [
    "result_files"
   ]
  },
  {
   "cell_type": "markdown",
   "metadata": {},
   "source": [
    "Number of samples with neutral emotions"
   ]
  },
  {
   "cell_type": "code",
   "execution_count": 135,
   "metadata": {},
   "outputs": [],
   "source": [
    "# df_res[df_res.emotions == 'neutral2'].emotions.count()"
   ]
  },
  {
   "cell_type": "code",
   "execution_count": 158,
   "metadata": {
    "scrolled": true
   },
   "outputs": [
    {
     "name": "stdout",
     "output_type": "stream",
     "text": [
      "neutral emot. in result0-100000.csv before scalling: 90440, after: 75898, delta: 14542\n",
      "neutral emot. in result100000-200000.csv before scalling: 90331, after: 75790, delta: 14541\n",
      "neutral emot. in result200000-300000.csv before scalling: 90382, after: 75953, delta: 14429\n",
      "neutral emot. in result300000-400000.csv before scalling: 90331, after: 75661, delta: 14670\n",
      "neutral emot. in result400000-500000.csv before scalling: 90392, after: 75801, delta: 14591\n",
      "neutral emot. in result500000-600000.csv before scalling: 90471, after: 75975, delta: 14496\n",
      "neutral emot. in result600000-700000.csv before scalling: 90325, after: 75687, delta: 14638\n",
      "neutral emot. in result700000-800000.csv before scalling: 90501, after: 75948, delta: 14553\n",
      "neutral emot. in result800000-900000.csv before scalling: 90576, after: 75935, delta: 14641\n",
      "neutral emot. in result900000-1000000.csv before scalling: 90301, after: 75633, delta: 14668\n"
     ]
    }
   ],
   "source": [
    "labels = [\n",
    "        'positive',\n",
    "        'neutral',\n",
    "        'negative',\n",
    "        'skip',\n",
    "        'speech',\n",
    "        'unknown',\n",
    "        ]\n",
    "\n",
    "def f(x):\n",
    "    global count_neut_before\n",
    "    index_first_max = int(x.nlargest(1).idxmin())\n",
    "    index_second_max = int(x.nlargest(2).idxmin())\n",
    "    if labels[index_first_max] == 'neutral':\n",
    "        count_neut_before = count_neut_before + 1\n",
    "        if x[index_second_max]/x[index_first_max] > x[index_first_max]:\n",
    "            t = x[index_second_max]\n",
    "            x[index_second_max] = x[index_first_max]\n",
    "            x[index_first_max] = t\n",
    "            return index_second_max\n",
    "        else:\n",
    "            return index_first_max\n",
    "    return index_first_max\n",
    "        #print('x: ', x, 'imax:', typeindex_first_max))\n",
    "\n",
    "for csv_name in result_files:\n",
    "    count_neut_before = 0\n",
    "    df_res = pd.read_csv(PATH_TO_RESULT + FOLDER_NAME_IN + csv_name)\n",
    "    df_res['emotions'] = df_res[['0', '1', '2', '3', '4', '5']].T.apply(lambda x: f(x))\n",
    "    df_res['emotions'] = df_res['emotions'].T.apply(lambda x: labels[int(x)])\n",
    "    count_neut_after = df_res[df_res.emotions == 'neutral'].emotions.count()\n",
    "    print(\"neutral emot. in {} before scalling: {}, after: {}, delta: {}\".format(csv_name, count_neut_before, count_neut_after, count_neut_before - count_neut_after))\n",
    "    df_res.to_csv(PATH_TO_RESULT + FOLDER_NAME_OUT + 'scalling_' + csv_name, encoding='Windows-1251')"
   ]
  }
 ],
 "metadata": {
  "kernelspec": {
   "display_name": "Python 3",
   "language": "python",
   "name": "python3"
  },
  "language_info": {
   "codemirror_mode": {
    "name": "ipython",
    "version": 3
   },
   "file_extension": ".py",
   "mimetype": "text/x-python",
   "name": "python",
   "nbconvert_exporter": "python",
   "pygments_lexer": "ipython3",
   "version": "3.6.10"
  }
 },
 "nbformat": 4,
 "nbformat_minor": 4
}
